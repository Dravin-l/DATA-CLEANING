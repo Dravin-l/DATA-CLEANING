{
 "cells": [
  {
   "cell_type": "markdown",
   "id": "8d93f950",
   "metadata": {
    "papermill": {
     "duration": 0.007056,
     "end_time": "2023-07-12T16:13:30.437034",
     "exception": false,
     "start_time": "2023-07-12T16:13:30.429978",
     "status": "completed"
    },
    "tags": []
   },
   "source": [
    "**This notebook is an exercise in the [Data Cleaning](https://www.kaggle.com/learn/data-cleaning) course.  You can reference the tutorial at [this link](https://www.kaggle.com/alexisbcook/inconsistent-data-entry).**\n",
    "\n",
    "---\n"
   ]
  },
  {
   "cell_type": "markdown",
   "id": "c1b71576",
   "metadata": {
    "papermill": {
     "duration": 0.00681,
     "end_time": "2023-07-12T16:13:30.450942",
     "exception": false,
     "start_time": "2023-07-12T16:13:30.444132",
     "status": "completed"
    },
    "tags": []
   },
   "source": [
    "In this exercise, you'll apply what you learned in the **Inconsistent data entry** tutorial.\n",
    "\n",
    "# Setup\n",
    "\n",
    "The questions below will give you feedback on your work. Run the following cell to set up the feedback system."
   ]
  },
  {
   "cell_type": "code",
   "execution_count": 1,
   "id": "4bc11cfd",
   "metadata": {
    "execution": {
     "iopub.execute_input": "2023-07-12T16:13:30.467002Z",
     "iopub.status.busy": "2023-07-12T16:13:30.466449Z",
     "iopub.status.idle": "2023-07-12T16:13:30.674890Z",
     "shell.execute_reply": "2023-07-12T16:13:30.673784Z"
    },
    "papermill": {
     "duration": 0.219972,
     "end_time": "2023-07-12T16:13:30.677578",
     "exception": false,
     "start_time": "2023-07-12T16:13:30.457606",
     "status": "completed"
    },
    "tags": []
   },
   "outputs": [
    {
     "name": "stdout",
     "output_type": "stream",
     "text": [
      "Setup Complete\n"
     ]
    }
   ],
   "source": [
    "from learntools.core import binder\n",
    "binder.bind(globals())\n",
    "from learntools.data_cleaning.ex5 import *\n",
    "print(\"Setup Complete\")"
   ]
  },
  {
   "cell_type": "markdown",
   "id": "117d0b64",
   "metadata": {
    "papermill": {
     "duration": 0.006598,
     "end_time": "2023-07-12T16:13:30.690775",
     "exception": false,
     "start_time": "2023-07-12T16:13:30.684177",
     "status": "completed"
    },
    "tags": []
   },
   "source": [
    "# Get our environment set up\n",
    "\n",
    "The first thing we'll need to do is load in the libraries and dataset we'll be using.  We use the same dataset from the tutorial."
   ]
  },
  {
   "cell_type": "code",
   "execution_count": 2,
   "id": "444d19c8",
   "metadata": {
    "execution": {
     "iopub.execute_input": "2023-07-12T16:13:30.706635Z",
     "iopub.status.busy": "2023-07-12T16:13:30.706204Z",
     "iopub.status.idle": "2023-07-12T16:13:30.724297Z",
     "shell.execute_reply": "2023-07-12T16:13:30.723027Z"
    },
    "papermill": {
     "duration": 0.03005,
     "end_time": "2023-07-12T16:13:30.727484",
     "exception": false,
     "start_time": "2023-07-12T16:13:30.697434",
     "status": "completed"
    },
    "tags": []
   },
   "outputs": [],
   "source": [
    "# modules we'll use\n",
    "import pandas as pd\n",
    "import numpy as np\n",
    "\n",
    "# helpful modules\n",
    "import fuzzywuzzy\n",
    "from fuzzywuzzy import process\n",
    "import charset_normalizer\n",
    "\n",
    "# read in all our data\n",
    "professors = pd.read_csv(\"../input/pakistan-intellectual-capital/pakistan_intellectual_capital.csv\")\n",
    "\n",
    "# set seed for reproducibility\n",
    "np.random.seed(0)"
   ]
  },
  {
   "cell_type": "markdown",
   "id": "c4bf28b8",
   "metadata": {
    "papermill": {
     "duration": 0.006826,
     "end_time": "2023-07-12T16:13:30.741333",
     "exception": false,
     "start_time": "2023-07-12T16:13:30.734507",
     "status": "completed"
    },
    "tags": []
   },
   "source": [
    "Next, we'll redo all of the work that we did in the tutorial."
   ]
  },
  {
   "cell_type": "code",
   "execution_count": 3,
   "id": "214694e1",
   "metadata": {
    "execution": {
     "iopub.execute_input": "2023-07-12T16:13:30.757139Z",
     "iopub.status.busy": "2023-07-12T16:13:30.756753Z",
     "iopub.status.idle": "2023-07-12T16:13:30.773589Z",
     "shell.execute_reply": "2023-07-12T16:13:30.772363Z"
    },
    "papermill": {
     "duration": 0.027786,
     "end_time": "2023-07-12T16:13:30.775991",
     "exception": false,
     "start_time": "2023-07-12T16:13:30.748205",
     "status": "completed"
    },
    "tags": []
   },
   "outputs": [
    {
     "name": "stdout",
     "output_type": "stream",
     "text": [
      "All done!\n"
     ]
    }
   ],
   "source": [
    "# convert to lower case\n",
    "professors['Country'] = professors['Country'].str.lower()\n",
    "# remove trailing white spaces\n",
    "professors['Country'] = professors['Country'].str.strip()\n",
    "\n",
    "# get the top 10 closest matches to \"south korea\"\n",
    "countries = professors['Country'].unique()\n",
    "matches = fuzzywuzzy.process.extract(\"south korea\", countries, limit=10, scorer=fuzzywuzzy.fuzz.token_sort_ratio)\n",
    "\n",
    "def replace_matches_in_column(df, column, string_to_match, min_ratio = 47):\n",
    "    # get a list of unique strings\n",
    "    strings = df[column].unique()\n",
    "    \n",
    "    # get the top 10 closest matches to our input string\n",
    "    matches = fuzzywuzzy.process.extract(string_to_match, strings, \n",
    "                                         limit=10, scorer=fuzzywuzzy.fuzz.token_sort_ratio)\n",
    "\n",
    "    # only get matches with a ratio > 90\n",
    "    close_matches = [matches[0] for matches in matches if matches[1] >= min_ratio]\n",
    "\n",
    "    # get the rows of all the close matches in our dataframe\n",
    "    rows_with_matches = df[column].isin(close_matches)\n",
    "\n",
    "    # replace all rows with close matches with the input matches \n",
    "    df.loc[rows_with_matches, column] = string_to_match\n",
    "    \n",
    "    # let us know the function's done\n",
    "    print(\"All done!\")\n",
    "    \n",
    "replace_matches_in_column(df=professors, column='Country', string_to_match=\"south korea\")\n",
    "countries = professors['Country'].unique()"
   ]
  },
  {
   "cell_type": "markdown",
   "id": "976998b9",
   "metadata": {
    "papermill": {
     "duration": 0.006697,
     "end_time": "2023-07-12T16:13:30.789945",
     "exception": false,
     "start_time": "2023-07-12T16:13:30.783248",
     "status": "completed"
    },
    "tags": []
   },
   "source": [
    "# 1) Examine another column\n",
    "\n",
    "Write code below to take a look at all the unique values in the \"Graduated from\" column."
   ]
  },
  {
   "cell_type": "code",
   "execution_count": 4,
   "id": "95d9c2de",
   "metadata": {
    "execution": {
     "iopub.execute_input": "2023-07-12T16:13:30.806130Z",
     "iopub.status.busy": "2023-07-12T16:13:30.805372Z",
     "iopub.status.idle": "2023-07-12T16:13:30.810975Z",
     "shell.execute_reply": "2023-07-12T16:13:30.809726Z"
    },
    "papermill": {
     "duration": 0.016271,
     "end_time": "2023-07-12T16:13:30.813389",
     "exception": false,
     "start_time": "2023-07-12T16:13:30.797118",
     "status": "completed"
    },
    "tags": []
   },
   "outputs": [],
   "source": [
    "# TODO: Your code here\n",
    "graduated=professors['Graduated from'].unique()"
   ]
  },
  {
   "cell_type": "markdown",
   "id": "3fe17afa",
   "metadata": {
    "papermill": {
     "duration": 0.007774,
     "end_time": "2023-07-12T16:13:30.828011",
     "exception": false,
     "start_time": "2023-07-12T16:13:30.820237",
     "status": "completed"
    },
    "tags": []
   },
   "source": [
    "Do you notice any inconsistencies in the data?  Can any of the inconsistencies in the data be fixed by removing white spaces at the beginning and end of cells?\n",
    "\n",
    "Once you have answered these questions, run the code cell below to get credit for your work."
   ]
  },
  {
   "cell_type": "code",
   "execution_count": 5,
   "id": "4d5a2a7a",
   "metadata": {
    "execution": {
     "iopub.execute_input": "2023-07-12T16:13:30.843128Z",
     "iopub.status.busy": "2023-07-12T16:13:30.842751Z",
     "iopub.status.idle": "2023-07-12T16:13:30.854776Z",
     "shell.execute_reply": "2023-07-12T16:13:30.853711Z"
    },
    "papermill": {
     "duration": 0.022735,
     "end_time": "2023-07-12T16:13:30.857493",
     "exception": false,
     "start_time": "2023-07-12T16:13:30.834758",
     "status": "completed"
    },
    "tags": []
   },
   "outputs": [
    {
     "data": {
      "application/javascript": [
       "parent.postMessage({\"jupyterEvent\": \"custom.exercise_interaction\", \"data\": {\"outcomeType\": 1, \"valueTowardsCompletion\": 0.3333333333333333, \"interactionType\": 1, \"questionType\": 4, \"questionId\": \"1_ExamineProvince\", \"learnToolsVersion\": \"0.3.4\", \"failureMessage\": \"\", \"exceptionClass\": \"\", \"trace\": \"\"}}, \"*\")"
      ],
      "text/plain": [
       "<IPython.core.display.Javascript object>"
      ]
     },
     "metadata": {},
     "output_type": "display_data"
    },
    {
     "data": {
      "text/markdown": [
       "<span style=\"color:#33cc33\">Correct:</span> \n",
       "\n",
       "There are inconsistencies that can be fixed by removing white spaces at the beginning and end of cells.  For instance, \"University of Central Florida\" and \" University of Central Florida\" both appear in the column."
      ],
      "text/plain": [
       "Correct: \n",
       "\n",
       "There are inconsistencies that can be fixed by removing white spaces at the beginning and end of cells.  For instance, \"University of Central Florida\" and \" University of Central Florida\" both appear in the column."
      ]
     },
     "metadata": {},
     "output_type": "display_data"
    }
   ],
   "source": [
    "# Check your answer (Run this code cell to receive credit!)\n",
    "q1.check()"
   ]
  },
  {
   "cell_type": "code",
   "execution_count": 6,
   "id": "ed332302",
   "metadata": {
    "execution": {
     "iopub.execute_input": "2023-07-12T16:13:30.873846Z",
     "iopub.status.busy": "2023-07-12T16:13:30.873426Z",
     "iopub.status.idle": "2023-07-12T16:13:30.879016Z",
     "shell.execute_reply": "2023-07-12T16:13:30.877649Z"
    },
    "papermill": {
     "duration": 0.016651,
     "end_time": "2023-07-12T16:13:30.881497",
     "exception": false,
     "start_time": "2023-07-12T16:13:30.864846",
     "status": "completed"
    },
    "tags": []
   },
   "outputs": [],
   "source": [
    "# Line below will give you a hint\n",
    "#q1.hint()"
   ]
  },
  {
   "cell_type": "markdown",
   "id": "0e2f0f8f",
   "metadata": {
    "papermill": {
     "duration": 0.006896,
     "end_time": "2023-07-12T16:13:30.895780",
     "exception": false,
     "start_time": "2023-07-12T16:13:30.888884",
     "status": "completed"
    },
    "tags": []
   },
   "source": [
    "# 2) Do some text pre-processing\n",
    "\n",
    "Convert every entry in the \"Graduated from\" column in the `professors` DataFrame to remove white spaces at the beginning and end of cells."
   ]
  },
  {
   "cell_type": "code",
   "execution_count": 7,
   "id": "b3824226",
   "metadata": {
    "execution": {
     "iopub.execute_input": "2023-07-12T16:13:30.912100Z",
     "iopub.status.busy": "2023-07-12T16:13:30.911713Z",
     "iopub.status.idle": "2023-07-12T16:13:30.927124Z",
     "shell.execute_reply": "2023-07-12T16:13:30.926081Z"
    },
    "papermill": {
     "duration": 0.026446,
     "end_time": "2023-07-12T16:13:30.929604",
     "exception": false,
     "start_time": "2023-07-12T16:13:30.903158",
     "status": "completed"
    },
    "tags": []
   },
   "outputs": [
    {
     "data": {
      "application/javascript": [
       "parent.postMessage({\"jupyterEvent\": \"custom.exercise_interaction\", \"data\": {\"outcomeType\": 1, \"valueTowardsCompletion\": 0.3333333333333333, \"interactionType\": 1, \"questionType\": 1, \"questionId\": \"2_TextProcessing\", \"learnToolsVersion\": \"0.3.4\", \"failureMessage\": \"\", \"exceptionClass\": \"\", \"trace\": \"\"}}, \"*\")"
      ],
      "text/plain": [
       "<IPython.core.display.Javascript object>"
      ]
     },
     "metadata": {},
     "output_type": "display_data"
    },
    {
     "data": {
      "text/markdown": [
       "<span style=\"color:#33cc33\">Correct</span>"
      ],
      "text/plain": [
       "Correct"
      ]
     },
     "metadata": {},
     "output_type": "display_data"
    }
   ],
   "source": [
    "# TODO: Your code here\n",
    "professors['Graduated from']=professors['Graduated from'].str.strip()\n",
    "\n",
    "# Check your answer\n",
    "q2.check()"
   ]
  },
  {
   "cell_type": "code",
   "execution_count": 8,
   "id": "f027b8ff",
   "metadata": {
    "execution": {
     "iopub.execute_input": "2023-07-12T16:13:30.946650Z",
     "iopub.status.busy": "2023-07-12T16:13:30.946251Z",
     "iopub.status.idle": "2023-07-12T16:13:30.950572Z",
     "shell.execute_reply": "2023-07-12T16:13:30.949444Z"
    },
    "papermill": {
     "duration": 0.01592,
     "end_time": "2023-07-12T16:13:30.953079",
     "exception": false,
     "start_time": "2023-07-12T16:13:30.937159",
     "status": "completed"
    },
    "tags": []
   },
   "outputs": [],
   "source": [
    "# Lines below will give you a hint or solution code\n",
    "#q2.hint()\n",
    "#q2.solution()"
   ]
  },
  {
   "cell_type": "markdown",
   "id": "a75cf319",
   "metadata": {
    "papermill": {
     "duration": 0.008023,
     "end_time": "2023-07-12T16:13:30.969058",
     "exception": false,
     "start_time": "2023-07-12T16:13:30.961035",
     "status": "completed"
    },
    "tags": []
   },
   "source": [
    "# 3) Continue working with countries\n",
    "\n",
    "In the tutorial, we focused on cleaning up inconsistencies in the \"Country\" column.  Run the code cell below to view the list of unique values that we ended with."
   ]
  },
  {
   "cell_type": "code",
   "execution_count": 9,
   "id": "e79ee158",
   "metadata": {
    "execution": {
     "iopub.execute_input": "2023-07-12T16:13:30.986732Z",
     "iopub.status.busy": "2023-07-12T16:13:30.986285Z",
     "iopub.status.idle": "2023-07-12T16:13:30.994575Z",
     "shell.execute_reply": "2023-07-12T16:13:30.993371Z"
    },
    "papermill": {
     "duration": 0.020309,
     "end_time": "2023-07-12T16:13:30.997422",
     "exception": false,
     "start_time": "2023-07-12T16:13:30.977113",
     "status": "completed"
    },
    "tags": []
   },
   "outputs": [
    {
     "data": {
      "text/plain": [
       "array(['australia', 'austria', 'canada', 'china', 'finland', 'france',\n",
       "       'germany', 'greece', 'hongkong', 'ireland', 'italy', 'japan',\n",
       "       'macau', 'malaysia', 'mauritius', 'netherland', 'new zealand',\n",
       "       'norway', 'pakistan', 'portugal', 'russian federation',\n",
       "       'saudi arabia', 'scotland', 'singapore', 'south korea', 'spain',\n",
       "       'sweden', 'thailand', 'turkey', 'uk', 'urbana', 'usa', 'usofa'],\n",
       "      dtype=object)"
      ]
     },
     "execution_count": 9,
     "metadata": {},
     "output_type": "execute_result"
    }
   ],
   "source": [
    "# get all the unique values in the 'City' column\n",
    "countries = professors['Country'].unique()\n",
    "\n",
    "# sort them alphabetically and then take a closer look\n",
    "countries.sort()\n",
    "countries"
   ]
  },
  {
   "cell_type": "markdown",
   "id": "7ad547a1",
   "metadata": {
    "papermill": {
     "duration": 0.007843,
     "end_time": "2023-07-12T16:13:31.013276",
     "exception": false,
     "start_time": "2023-07-12T16:13:31.005433",
     "status": "completed"
    },
    "tags": []
   },
   "source": [
    "Take another look at the \"Country\" column and see if there's any more data cleaning we need to do.\n",
    "\n",
    "It looks like 'usa' and 'usofa' should be the same country.  Correct the \"Country\" column in the dataframe to replace 'usofa' with 'usa'.\n",
    "\n",
    "**Use the most recent version of the DataFrame (with the whitespaces at the beginning and end of cells removed) from question 2.**"
   ]
  },
  {
   "cell_type": "code",
   "execution_count": 10,
   "id": "1acd52e6",
   "metadata": {
    "execution": {
     "iopub.execute_input": "2023-07-12T16:13:31.030958Z",
     "iopub.status.busy": "2023-07-12T16:13:31.030513Z",
     "iopub.status.idle": "2023-07-12T16:13:31.046239Z",
     "shell.execute_reply": "2023-07-12T16:13:31.044884Z"
    },
    "papermill": {
     "duration": 0.02772,
     "end_time": "2023-07-12T16:13:31.049022",
     "exception": false,
     "start_time": "2023-07-12T16:13:31.021302",
     "status": "completed"
    },
    "tags": []
   },
   "outputs": [
    {
     "name": "stdout",
     "output_type": "stream",
     "text": [
      "All done!\n"
     ]
    },
    {
     "data": {
      "application/javascript": [
       "parent.postMessage({\"jupyterEvent\": \"custom.exercise_interaction\", \"data\": {\"outcomeType\": 1, \"valueTowardsCompletion\": 0.3333333333333333, \"interactionType\": 1, \"questionType\": 1, \"questionId\": \"3_WorkingWithCities\", \"learnToolsVersion\": \"0.3.4\", \"failureMessage\": \"\", \"exceptionClass\": \"\", \"trace\": \"\"}}, \"*\")"
      ],
      "text/plain": [
       "<IPython.core.display.Javascript object>"
      ]
     },
     "metadata": {},
     "output_type": "display_data"
    },
    {
     "data": {
      "text/markdown": [
       "<span style=\"color:#33cc33\">Correct</span>"
      ],
      "text/plain": [
       "Correct"
      ]
     },
     "metadata": {},
     "output_type": "display_data"
    }
   ],
   "source": [
    "# TODO: Your code here!\n",
    "\n",
    "\n",
    "matches = fuzzywuzzy.process.extract(\"usa\", countries, limit=10, scorer=fuzzywuzzy.fuzz.token_sort_ratio)\n",
    "replace_matches_in_column(df=professors, column='Country', string_to_match=\"usa\", min_ratio=70)\n",
    "\n",
    "# Check your answer\n",
    "q3.check()"
   ]
  },
  {
   "cell_type": "code",
   "execution_count": 11,
   "id": "f183043f",
   "metadata": {
    "execution": {
     "iopub.execute_input": "2023-07-12T16:13:31.068948Z",
     "iopub.status.busy": "2023-07-12T16:13:31.068481Z",
     "iopub.status.idle": "2023-07-12T16:13:31.073273Z",
     "shell.execute_reply": "2023-07-12T16:13:31.072091Z"
    },
    "papermill": {
     "duration": 0.017178,
     "end_time": "2023-07-12T16:13:31.075649",
     "exception": false,
     "start_time": "2023-07-12T16:13:31.058471",
     "status": "completed"
    },
    "tags": []
   },
   "outputs": [],
   "source": [
    "# Lines below will give you a hint or solution code\n",
    "#q3.hint()\n",
    "#q3.solution()"
   ]
  },
  {
   "cell_type": "markdown",
   "id": "9167ff39",
   "metadata": {
    "papermill": {
     "duration": 0.008106,
     "end_time": "2023-07-12T16:13:31.092008",
     "exception": false,
     "start_time": "2023-07-12T16:13:31.083902",
     "status": "completed"
    },
    "tags": []
   },
   "source": [
    "# Congratulations!\n",
    "\n",
    "Congratulations for completing the **Data Cleaning** course on Kaggle Learn!\n",
    "\n",
    "To practice your new skills, you're encouraged to download and investigate some of [Kaggle's Datasets](https://www.kaggle.com/datasets)."
   ]
  },
  {
   "cell_type": "markdown",
   "id": "b3b8fc0a",
   "metadata": {
    "papermill": {
     "duration": 0.008306,
     "end_time": "2023-07-12T16:13:31.108469",
     "exception": false,
     "start_time": "2023-07-12T16:13:31.100163",
     "status": "completed"
    },
    "tags": []
   },
   "source": [
    "---\n",
    "\n",
    "\n",
    "\n",
    "\n",
    "*Have questions or comments? Visit the [course discussion forum](https://www.kaggle.com/learn/data-cleaning/discussion) to chat with other learners.*"
   ]
  }
 ],
 "metadata": {
  "kernelspec": {
   "display_name": "Python 3",
   "language": "python",
   "name": "python3"
  },
  "language_info": {
   "codemirror_mode": {
    "name": "ipython",
    "version": 3
   },
   "file_extension": ".py",
   "mimetype": "text/x-python",
   "name": "python",
   "nbconvert_exporter": "python",
   "pygments_lexer": "ipython3",
   "version": "3.10.12"
  },
  "papermill": {
   "default_parameters": {},
   "duration": 14.095413,
   "end_time": "2023-07-12T16:13:32.039659",
   "environment_variables": {},
   "exception": null,
   "input_path": "__notebook__.ipynb",
   "output_path": "__notebook__.ipynb",
   "parameters": {},
   "start_time": "2023-07-12T16:13:17.944246",
   "version": "2.4.0"
  }
 },
 "nbformat": 4,
 "nbformat_minor": 5
}
