{
 "cells": [
  {
   "cell_type": "markdown",
   "id": "d37ed781",
   "metadata": {
    "papermill": {
     "duration": 0.007267,
     "end_time": "2023-07-12T16:01:07.247576",
     "exception": false,
     "start_time": "2023-07-12T16:01:07.240309",
     "status": "completed"
    },
    "tags": []
   },
   "source": [
    "**This notebook is an exercise in the [Data Cleaning](https://www.kaggle.com/learn/data-cleaning) course.  You can reference the tutorial at [this link](https://www.kaggle.com/alexisbcook/character-encodings).**\n",
    "\n",
    "---\n"
   ]
  },
  {
   "cell_type": "markdown",
   "id": "a61a85de",
   "metadata": {
    "papermill": {
     "duration": 0.004169,
     "end_time": "2023-07-12T16:01:07.258353",
     "exception": false,
     "start_time": "2023-07-12T16:01:07.254184",
     "status": "completed"
    },
    "tags": []
   },
   "source": [
    "In this exercise, you'll apply what you learned in the **Character encodings** tutorial.\n",
    "\n",
    "# Setup\n",
    "\n",
    "The questions below will give you feedback on your work. Run the following cell to set up the feedback system."
   ]
  },
  {
   "cell_type": "code",
   "execution_count": 1,
   "id": "27e5467d",
   "metadata": {
    "execution": {
     "iopub.execute_input": "2023-07-12T16:01:07.270464Z",
     "iopub.status.busy": "2023-07-12T16:01:07.269094Z",
     "iopub.status.idle": "2023-07-12T16:01:07.364227Z",
     "shell.execute_reply": "2023-07-12T16:01:07.363019Z"
    },
    "papermill": {
     "duration": 0.10404,
     "end_time": "2023-07-12T16:01:07.366937",
     "exception": false,
     "start_time": "2023-07-12T16:01:07.262897",
     "status": "completed"
    },
    "tags": []
   },
   "outputs": [
    {
     "name": "stdout",
     "output_type": "stream",
     "text": [
      "Setup Complete\n"
     ]
    }
   ],
   "source": [
    "from learntools.core import binder\n",
    "binder.bind(globals())\n",
    "from learntools.data_cleaning.ex4 import *\n",
    "print(\"Setup Complete\")"
   ]
  },
  {
   "cell_type": "markdown",
   "id": "81144bae",
   "metadata": {
    "papermill": {
     "duration": 0.005203,
     "end_time": "2023-07-12T16:01:07.376939",
     "exception": false,
     "start_time": "2023-07-12T16:01:07.371736",
     "status": "completed"
    },
    "tags": []
   },
   "source": [
    "# Get our environment set up\n",
    "\n",
    "The first thing we'll need to do is load in the libraries we'll be using."
   ]
  },
  {
   "cell_type": "code",
   "execution_count": 2,
   "id": "46839083",
   "metadata": {
    "execution": {
     "iopub.execute_input": "2023-07-12T16:01:07.390287Z",
     "iopub.status.busy": "2023-07-12T16:01:07.389571Z",
     "iopub.status.idle": "2023-07-12T16:01:07.395348Z",
     "shell.execute_reply": "2023-07-12T16:01:07.394037Z"
    },
    "papermill": {
     "duration": 0.015373,
     "end_time": "2023-07-12T16:01:07.398470",
     "exception": false,
     "start_time": "2023-07-12T16:01:07.383097",
     "status": "completed"
    },
    "tags": []
   },
   "outputs": [],
   "source": [
    "# modules we'll use\n",
    "import pandas as pd\n",
    "import numpy as np\n",
    "\n",
    "# helpful character encoding module\n",
    "import charset_normalizer\n",
    "\n",
    "# set seed for reproducibility\n",
    "np.random.seed(0)"
   ]
  },
  {
   "cell_type": "markdown",
   "id": "445e141f",
   "metadata": {
    "papermill": {
     "duration": 0.004399,
     "end_time": "2023-07-12T16:01:07.407780",
     "exception": false,
     "start_time": "2023-07-12T16:01:07.403381",
     "status": "completed"
    },
    "tags": []
   },
   "source": [
    "# 1) What are encodings?\n",
    "\n",
    "You're working with a dataset composed of bytes.  Run the code cell below to print a sample entry."
   ]
  },
  {
   "cell_type": "code",
   "execution_count": 3,
   "id": "d1665842",
   "metadata": {
    "execution": {
     "iopub.execute_input": "2023-07-12T16:01:07.419338Z",
     "iopub.status.busy": "2023-07-12T16:01:07.418363Z",
     "iopub.status.idle": "2023-07-12T16:01:07.424460Z",
     "shell.execute_reply": "2023-07-12T16:01:07.423312Z"
    },
    "papermill": {
     "duration": 0.014297,
     "end_time": "2023-07-12T16:01:07.426816",
     "exception": false,
     "start_time": "2023-07-12T16:01:07.412519",
     "status": "completed"
    },
    "tags": []
   },
   "outputs": [
    {
     "name": "stdout",
     "output_type": "stream",
     "text": [
      "b'\\xa7A\\xa6n'\n",
      "data type: <class 'bytes'>\n"
     ]
    }
   ],
   "source": [
    "sample_entry = b'\\xa7A\\xa6n'\n",
    "print(sample_entry)\n",
    "print('data type:', type(sample_entry))"
   ]
  },
  {
   "cell_type": "markdown",
   "id": "1b913fd9",
   "metadata": {
    "papermill": {
     "duration": 0.004509,
     "end_time": "2023-07-12T16:01:07.436189",
     "exception": false,
     "start_time": "2023-07-12T16:01:07.431680",
     "status": "completed"
    },
    "tags": []
   },
   "source": [
    "You notice that it doesn't use the standard UTF-8 encoding. \n",
    "\n",
    "Use the next code cell to create a variable `new_entry` that changes the encoding from `\"big5-tw\"` to `\"utf-8\"`.  `new_entry` should have the bytes datatype."
   ]
  },
  {
   "cell_type": "code",
   "execution_count": 4,
   "id": "a3b0541e",
   "metadata": {
    "execution": {
     "iopub.execute_input": "2023-07-12T16:01:07.448012Z",
     "iopub.status.busy": "2023-07-12T16:01:07.447366Z",
     "iopub.status.idle": "2023-07-12T16:01:07.457145Z",
     "shell.execute_reply": "2023-07-12T16:01:07.456057Z"
    },
    "papermill": {
     "duration": 0.01783,
     "end_time": "2023-07-12T16:01:07.459275",
     "exception": false,
     "start_time": "2023-07-12T16:01:07.441445",
     "status": "completed"
    },
    "tags": []
   },
   "outputs": [
    {
     "data": {
      "application/javascript": [
       "parent.postMessage({\"jupyterEvent\": \"custom.exercise_interaction\", \"data\": {\"outcomeType\": 1, \"valueTowardsCompletion\": 0.3333333333333333, \"interactionType\": 1, \"questionType\": 1, \"questionId\": \"1_EncodingsIntro\", \"learnToolsVersion\": \"0.3.4\", \"failureMessage\": \"\", \"exceptionClass\": \"\", \"trace\": \"\"}}, \"*\")"
      ],
      "text/plain": [
       "<IPython.core.display.Javascript object>"
      ]
     },
     "metadata": {},
     "output_type": "display_data"
    },
    {
     "data": {
      "text/markdown": [
       "<span style=\"color:#33cc33\">Correct</span>"
      ],
      "text/plain": [
       "Correct"
      ]
     },
     "metadata": {},
     "output_type": "display_data"
    }
   ],
   "source": [
    "decode=sample_entry.decode('big5-tw')\n",
    "new_entry = decode.encode(\"utf-8\", errors=\"replace\")\n",
    "\n",
    "# Check your answer\n",
    "q1.check()"
   ]
  },
  {
   "cell_type": "code",
   "execution_count": 5,
   "id": "f882f333",
   "metadata": {
    "execution": {
     "iopub.execute_input": "2023-07-12T16:01:07.473204Z",
     "iopub.status.busy": "2023-07-12T16:01:07.472461Z",
     "iopub.status.idle": "2023-07-12T16:01:07.477553Z",
     "shell.execute_reply": "2023-07-12T16:01:07.476476Z"
    },
    "papermill": {
     "duration": 0.015112,
     "end_time": "2023-07-12T16:01:07.479874",
     "exception": false,
     "start_time": "2023-07-12T16:01:07.464762",
     "status": "completed"
    },
    "tags": []
   },
   "outputs": [],
   "source": [
    "# Lines below will give you a hint or solution code\n",
    "#q1.hint()\n",
    "#q1.solution()"
   ]
  },
  {
   "cell_type": "markdown",
   "id": "07612b7a",
   "metadata": {
    "papermill": {
     "duration": 0.004487,
     "end_time": "2023-07-12T16:01:07.489309",
     "exception": false,
     "start_time": "2023-07-12T16:01:07.484822",
     "status": "completed"
    },
    "tags": []
   },
   "source": [
    "# 2) Reading in files with encoding problems\n",
    "\n",
    "Use the code cell below to read in this file at path `\"../input/fatal-police-shootings-in-the-us/PoliceKillingsUS.csv\"`.  \n",
    "\n",
    "Figure out what the correct encoding should be and read in the file to a DataFrame `police_killings`."
   ]
  },
  {
   "cell_type": "code",
   "execution_count": 6,
   "id": "6f8bc85a",
   "metadata": {
    "execution": {
     "iopub.execute_input": "2023-07-12T16:01:07.501138Z",
     "iopub.status.busy": "2023-07-12T16:01:07.500714Z",
     "iopub.status.idle": "2023-07-12T16:01:07.530115Z",
     "shell.execute_reply": "2023-07-12T16:01:07.528615Z"
    },
    "papermill": {
     "duration": 0.03875,
     "end_time": "2023-07-12T16:01:07.532865",
     "exception": false,
     "start_time": "2023-07-12T16:01:07.494115",
     "status": "completed"
    },
    "tags": []
   },
   "outputs": [
    {
     "data": {
      "application/javascript": [
       "parent.postMessage({\"jupyterEvent\": \"custom.exercise_interaction\", \"data\": {\"outcomeType\": 1, \"valueTowardsCompletion\": 0.3333333333333333, \"interactionType\": 1, \"questionType\": 1, \"questionId\": \"2_ReadIn\", \"learnToolsVersion\": \"0.3.4\", \"failureMessage\": \"\", \"exceptionClass\": \"\", \"trace\": \"\"}}, \"*\")"
      ],
      "text/plain": [
       "<IPython.core.display.Javascript object>"
      ]
     },
     "metadata": {},
     "output_type": "display_data"
    },
    {
     "data": {
      "text/markdown": [
       "<span style=\"color:#33cc33\">Correct</span>"
      ],
      "text/plain": [
       "Correct"
      ]
     },
     "metadata": {},
     "output_type": "display_data"
    }
   ],
   "source": [
    "# TODO: Load in the DataFrame correctly.\n",
    "police_killings = pd.read_csv(\"../input/fatal-police-shootings-in-the-us/PoliceKillingsUS.csv\", encoding='Windows-1252')\n",
    "\n",
    "# Check your answer\n",
    "q2.check()"
   ]
  },
  {
   "cell_type": "markdown",
   "id": "05b7f4e2",
   "metadata": {
    "papermill": {
     "duration": 0.004942,
     "end_time": "2023-07-12T16:01:07.543453",
     "exception": false,
     "start_time": "2023-07-12T16:01:07.538511",
     "status": "completed"
    },
    "tags": []
   },
   "source": [
    "Feel free to use any additional code cells for supplemental work.  To get credit for finishing this question, you'll need to run `q2.check()` and get a result of **Correct**."
   ]
  },
  {
   "cell_type": "code",
   "execution_count": 7,
   "id": "976e4388",
   "metadata": {
    "execution": {
     "iopub.execute_input": "2023-07-12T16:01:07.555626Z",
     "iopub.status.busy": "2023-07-12T16:01:07.554996Z",
     "iopub.status.idle": "2023-07-12T16:01:07.560488Z",
     "shell.execute_reply": "2023-07-12T16:01:07.559111Z"
    },
    "papermill": {
     "duration": 0.014872,
     "end_time": "2023-07-12T16:01:07.563526",
     "exception": false,
     "start_time": "2023-07-12T16:01:07.548654",
     "status": "completed"
    },
    "tags": []
   },
   "outputs": [],
   "source": [
    "# (Optional) Use this code cell for any additional work."
   ]
  },
  {
   "cell_type": "code",
   "execution_count": 8,
   "id": "72402d45",
   "metadata": {
    "execution": {
     "iopub.execute_input": "2023-07-12T16:01:07.576144Z",
     "iopub.status.busy": "2023-07-12T16:01:07.575385Z",
     "iopub.status.idle": "2023-07-12T16:01:07.580272Z",
     "shell.execute_reply": "2023-07-12T16:01:07.579108Z"
    },
    "papermill": {
     "duration": 0.013817,
     "end_time": "2023-07-12T16:01:07.582754",
     "exception": false,
     "start_time": "2023-07-12T16:01:07.568937",
     "status": "completed"
    },
    "tags": []
   },
   "outputs": [],
   "source": [
    "# Lines below will give you a hint or solution code\n",
    "#q2.hint()\n",
    "#q2.solution()"
   ]
  },
  {
   "cell_type": "markdown",
   "id": "00182833",
   "metadata": {
    "papermill": {
     "duration": 0.004951,
     "end_time": "2023-07-12T16:01:07.593186",
     "exception": false,
     "start_time": "2023-07-12T16:01:07.588235",
     "status": "completed"
    },
    "tags": []
   },
   "source": [
    "# 3) Saving your files with UTF-8 encoding\n",
    "\n",
    "Save a version of the police killings dataset to CSV with UTF-8 encoding.  Your answer will be marked correct after saving this file.  \n",
    "\n",
    "Note: When using the `to_csv()` method, supply only the name of the file (e.g., `\"my_file.csv\"`).  This saves the file at the filepath `\"/kaggle/working/my_file.csv\"`."
   ]
  },
  {
   "cell_type": "code",
   "execution_count": 9,
   "id": "c805b65e",
   "metadata": {
    "execution": {
     "iopub.execute_input": "2023-07-12T16:01:07.606209Z",
     "iopub.status.busy": "2023-07-12T16:01:07.605840Z",
     "iopub.status.idle": "2023-07-12T16:01:07.649064Z",
     "shell.execute_reply": "2023-07-12T16:01:07.647916Z"
    },
    "papermill": {
     "duration": 0.053002,
     "end_time": "2023-07-12T16:01:07.652188",
     "exception": false,
     "start_time": "2023-07-12T16:01:07.599186",
     "status": "completed"
    },
    "tags": []
   },
   "outputs": [
    {
     "data": {
      "application/javascript": [
       "parent.postMessage({\"jupyterEvent\": \"custom.exercise_interaction\", \"data\": {\"outcomeType\": 1, \"valueTowardsCompletion\": 0.3333333333333333, \"interactionType\": 1, \"questionType\": 2, \"questionId\": \"3_SaveCSV\", \"learnToolsVersion\": \"0.3.4\", \"failureMessage\": \"\", \"exceptionClass\": \"\", \"trace\": \"\"}}, \"*\")"
      ],
      "text/plain": [
       "<IPython.core.display.Javascript object>"
      ]
     },
     "metadata": {},
     "output_type": "display_data"
    },
    {
     "data": {
      "text/markdown": [
       "<span style=\"color:#33cc33\">Correct</span>"
      ],
      "text/plain": [
       "Correct"
      ]
     },
     "metadata": {},
     "output_type": "display_data"
    }
   ],
   "source": [
    "# TODO: Save the police killings dataset to CSV\n",
    "____\n",
    "police_killings.to_csv(\"my_file.csv\")\n",
    "\n",
    "# Check your answer\n",
    "q3.check()"
   ]
  },
  {
   "cell_type": "code",
   "execution_count": 10,
   "id": "d543f830",
   "metadata": {
    "execution": {
     "iopub.execute_input": "2023-07-12T16:01:07.666656Z",
     "iopub.status.busy": "2023-07-12T16:01:07.666102Z",
     "iopub.status.idle": "2023-07-12T16:01:07.671609Z",
     "shell.execute_reply": "2023-07-12T16:01:07.670136Z"
    },
    "papermill": {
     "duration": 0.015937,
     "end_time": "2023-07-12T16:01:07.674186",
     "exception": false,
     "start_time": "2023-07-12T16:01:07.658249",
     "status": "completed"
    },
    "tags": []
   },
   "outputs": [],
   "source": [
    "# Lines below will give you a hint or solution code\n",
    "#q3.hint()\n",
    "#q3.solution()"
   ]
  },
  {
   "cell_type": "markdown",
   "id": "96b7dede",
   "metadata": {
    "papermill": {
     "duration": 0.00627,
     "end_time": "2023-07-12T16:01:07.686086",
     "exception": false,
     "start_time": "2023-07-12T16:01:07.679816",
     "status": "completed"
    },
    "tags": []
   },
   "source": [
    "# (Optional) More practice\n",
    "\n",
    "Check out [this dataset of files in different character encodings](https://www.kaggle.com/rtatman/character-encoding-examples). Can you read in all the files with their original encodings and them save them out as UTF-8 files?\n",
    "\n",
    "If you have a file that's in UTF-8 but has just a couple of weird-looking characters in it, you can try out the [ftfy module](https://ftfy.readthedocs.io/en/latest/#) and see if it helps. \n",
    "\n",
    "# Keep going\n",
    "\n",
    "In the final lesson, learn how to [**clean up inconsistent text entries**](https://www.kaggle.com/alexisbcook/inconsistent-data-entry) in your dataset."
   ]
  },
  {
   "cell_type": "markdown",
   "id": "8c279186",
   "metadata": {
    "papermill": {
     "duration": 0.005239,
     "end_time": "2023-07-12T16:01:07.697397",
     "exception": false,
     "start_time": "2023-07-12T16:01:07.692158",
     "status": "completed"
    },
    "tags": []
   },
   "source": [
    "---\n",
    "\n",
    "\n",
    "\n",
    "\n",
    "*Have questions or comments? Visit the [course discussion forum](https://www.kaggle.com/learn/data-cleaning/discussion) to chat with other learners.*"
   ]
  }
 ],
 "metadata": {
  "kernelspec": {
   "display_name": "Python 3",
   "language": "python",
   "name": "python3"
  },
  "language_info": {
   "codemirror_mode": {
    "name": "ipython",
    "version": 3
   },
   "file_extension": ".py",
   "mimetype": "text/x-python",
   "name": "python",
   "nbconvert_exporter": "python",
   "pygments_lexer": "ipython3",
   "version": "3.10.12"
  },
  "papermill": {
   "default_parameters": {},
   "duration": 12.172474,
   "end_time": "2023-07-12T16:01:08.625814",
   "environment_variables": {},
   "exception": null,
   "input_path": "__notebook__.ipynb",
   "output_path": "__notebook__.ipynb",
   "parameters": {},
   "start_time": "2023-07-12T16:00:56.453340",
   "version": "2.4.0"
  }
 },
 "nbformat": 4,
 "nbformat_minor": 5
}
